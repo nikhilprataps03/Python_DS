{
 "cells": [
  {
   "cell_type": "code",
   "execution_count": 3,
   "metadata": {},
   "outputs": [
    {
     "name": "stdout",
     "output_type": "stream",
     "text": [
      "200\n",
      "100\n",
      "200\n"
     ]
    }
   ],
   "source": [
    "a=100  #fixed value\n",
    "b=int(input()) #variable value \n",
    "print(a)\n",
    "print(b)"
   ]
  },
  {
   "cell_type": "code",
   "execution_count": 4,
   "metadata": {},
   "outputs": [
    {
     "name": "stdout",
     "output_type": "stream",
     "text": [
      "<class 'int'>\n",
      "<class 'int'>\n"
     ]
    }
   ],
   "source": [
    "print(type(a))\n",
    "print(type(b)) #coverted by int() "
   ]
  },
  {
   "cell_type": "code",
   "execution_count": 5,
   "metadata": {},
   "outputs": [
    {
     "name": "stdout",
     "output_type": "stream",
     "text": [
      "Enter any number200\n",
      "Enter any number100\n"
     ]
    }
   ],
   "source": [
    "x=input('Enter any number')\n",
    "y=input('Enter any number')\n",
    "result=x+y #overloading of + operator for string data type "
   ]
  },
  {
   "cell_type": "code",
   "execution_count": 6,
   "metadata": {},
   "outputs": [
    {
     "name": "stdout",
     "output_type": "stream",
     "text": [
      "200100\n"
     ]
    }
   ],
   "source": [
    "print(result)"
   ]
  },
  {
   "cell_type": "code",
   "execution_count": 7,
   "metadata": {},
   "outputs": [
    {
     "name": "stdout",
     "output_type": "stream",
     "text": [
      "Enter any number200\n",
      "Enter any number100\n"
     ]
    }
   ],
   "source": [
    "x=int(input('Enter any number'))\n",
    "y=int(input('Enter any number'))\n",
    "result1=x+y"
   ]
  },
  {
   "cell_type": "code",
   "execution_count": 8,
   "metadata": {},
   "outputs": [
    {
     "name": "stdout",
     "output_type": "stream",
     "text": [
      "300\n"
     ]
    }
   ],
   "source": [
    "print(result1)"
   ]
  },
  {
   "cell_type": "code",
   "execution_count": 9,
   "metadata": {},
   "outputs": [
    {
     "name": "stdout",
     "output_type": "stream",
     "text": [
      "200100\n"
     ]
    }
   ],
   "source": [
    "print(result)"
   ]
  },
  {
   "cell_type": "code",
   "execution_count": null,
   "metadata": {},
   "outputs": [],
   "source": [
    "#conversion function\n",
    "#int() to convert into integer\n",
    "#float() to convert into float\n",
    "#str() to convert into string"
   ]
  },
  {
   "cell_type": "code",
   "execution_count": 12,
   "metadata": {},
   "outputs": [
    {
     "name": "stdout",
     "output_type": "stream",
     "text": [
      "Enter first number20\n",
      "Enter second number10\n",
      "X=20\t Y=10\n",
      "X=10\t Y=20\n"
     ]
    }
   ],
   "source": [
    "#Program no1\n",
    "#input two number and interchange the value without using the third variable\n",
    "\n",
    "x=int(input('Enter first number'))\n",
    "y=int(input('Enter second number'))\n",
    "print('X={}\\t Y={}'.format(x,y))\n",
    "x=x+y\n",
    "y=x-y\n",
    "x=x-y\n",
    "print('X={}\\t Y={}'.format(x,y))\n"
   ]
  },
  {
   "cell_type": "code",
   "execution_count": 13,
   "metadata": {},
   "outputs": [
    {
     "name": "stdout",
     "output_type": "stream",
     "text": [
      "Enter first number20\n",
      "Enter second number10\n",
      "X=20\t Y=10\n",
      "X=10\t Y=20\n"
     ]
    }
   ],
   "source": [
    "#Program no2\n",
    "#input two no and interchange the value using third variable\n",
    "\n",
    "x=int(input('Enter first number'))\n",
    "y=int(input('Enter second number'))\n",
    "print('X={}\\t Y={}'.format(x,y))\n",
    "z=x\n",
    "x=y\n",
    "y=z\n",
    "print('X={}\\t Y={}'.format(x,y))"
   ]
  },
  {
   "cell_type": "code",
   "execution_count": 14,
   "metadata": {},
   "outputs": [
    {
     "name": "stdout",
     "output_type": "stream",
     "text": [
      "Enter the amount1000\n",
      "Enter the rate3.5\n",
      "Enter the time2\n",
      "Amount=1000.0\t Rate=3.5\t Time=2.0\t simple_interest=70.0\n"
     ]
    }
   ],
   "source": [
    "# Program -03\n",
    "# input amount rate and time and calculate the Simple Interest\n",
    "\n",
    "amount=float(input('Enter the amount'))\n",
    "rate=float(input('Enter the rate'))\n",
    "time=float(input('Enter the time'))\n",
    "simple_interest=(amount*rate*time)/100\n",
    "print('Amount={}\\t Rate={}\\t Time={}\\t simple_interest={}'.format(amount,rate,time,simple_interest))"
   ]
  },
  {
   "cell_type": "code",
   "execution_count": 16,
   "metadata": {},
   "outputs": [
    {
     "name": "stdout",
     "output_type": "stream",
     "text": [
      "Enter the radius5\n",
      "Enter the height10\n",
      "pie=3.14\t radius=5.0\t height=10.0\t area=314.0\n"
     ]
    }
   ],
   "source": [
    "#Surface Area of cylinder--> 2pierh\n",
    "pie=3.14 #fixed value\n",
    "r=float(input('Enter the radius'))\n",
    "h=float(input('Enter the height'))\n",
    "a=2*pie*r*h\n",
    "print('pie={}\\t radius={}\\t height={}\\t area={}'.format(pie,r,h,a))"
   ]
  },
  {
   "cell_type": "code",
   "execution_count": 17,
   "metadata": {},
   "outputs": [
    {
     "name": "stdout",
     "output_type": "stream",
     "text": [
      "Enter the radius2\n",
      "Enter the height3\n",
      "pie=3.14\t radius=2.0\t height=3.0\t volume=37.68\n"
     ]
    }
   ],
   "source": [
    "#Volume of cyliner --> pier**rh\n",
    "\n",
    "pie=3.14 #fixed value\n",
    "r=float(input('Enter the radius'))\n",
    "h=float(input('Enter the height'))\n",
    "v=pie*r**r*h\n",
    "print('pie={}\\t radius={}\\t height={}\\t volume={}'.format(pie,r,h,v))\n"
   ]
  },
  {
   "cell_type": "code",
   "execution_count": 19,
   "metadata": {},
   "outputs": [
    {
     "name": "stdout",
     "output_type": "stream",
     "text": [
      "Enter the value of base120\n",
      "Enter the value of base210\n",
      "Enter the value of height10\n",
      "Base1=20.0\t Base2=10.0\t Height=10.0\t Area=150.0\n"
     ]
    }
   ],
   "source": [
    "#Area of trapezoid --> 1/2(b1+b2)h\n",
    "\n",
    "b1=float(input('Enter the value of base1'))\n",
    "b2=float(input('Enter the value of base2'))\n",
    "h=float(input('Enter the value of height'))\n",
    "area=1/2*(b1+b2)*h\n",
    "print('Base1={}\\t Base2={}\\t Height={}\\t Area={}'.format(b1,b2,h,area))"
   ]
  },
  {
   "cell_type": "code",
   "execution_count": null,
   "metadata": {},
   "outputs": [],
   "source": []
  }
 ],
 "metadata": {
  "kernelspec": {
   "display_name": "Python 3",
   "language": "python",
   "name": "python3"
  },
  "language_info": {
   "codemirror_mode": {
    "name": "ipython",
    "version": 3
   },
   "file_extension": ".py",
   "mimetype": "text/x-python",
   "name": "python",
   "nbconvert_exporter": "python",
   "pygments_lexer": "ipython3",
   "version": "3.7.4"
  }
 },
 "nbformat": 4,
 "nbformat_minor": 2
}
